{
 "cells": [
  {
   "cell_type": "markdown",
   "metadata": {},
   "source": [
    "This example follows: https://oxylabs.io/blog/python-web-scraping"
   ]
  },
  {
   "cell_type": "code",
   "execution_count": 1,
   "metadata": {},
   "outputs": [
    {
     "name": "stdout",
     "output_type": "stream",
     "text": [
      "<title>Innovative Proxy Service to Gather Data at Scale | Oxylabs</title>\n"
     ]
    }
   ],
   "source": [
    "import requests\n",
    "response = requests.get('https://oxylabs.io/')\n",
    "\n",
    "from bs4 import BeautifulSoup\n",
    "soup = BeautifulSoup(response.text, 'html.parser')\n",
    "print(soup.title)\n"
   ]
  },
  {
   "cell_type": "code",
   "execution_count": 2,
   "metadata": {},
   "outputs": [],
   "source": [
    "from selenium import webdriver\n",
    "from selenium.webdriver.common.by import By\n",
    "chrome_options = webdriver.ChromeOptions()"
   ]
  },
  {
   "cell_type": "code",
   "execution_count": 19,
   "metadata": {},
   "outputs": [],
   "source": [
    "driver = webdriver.Remote(\n",
    "    command_executor='http://172.17.0.3:4444',\n",
    "    options=chrome_options\n",
    ")"
   ]
  },
  {
   "cell_type": "code",
   "execution_count": 21,
   "metadata": {},
   "outputs": [
    {
     "ename": "NoSuchElementException",
     "evalue": "Message: no such element: Unable to locate element: {\"method\":\"css selector\",\"selector\":\"#center_column > div.af_pl_wrapper > ul > li:nth-child(1) > div > div.left-block.col-xs-4.col-sm-5.col-md-3 > div > a > img\"}\n  (Session info: chrome=99.0.4844.84)\nStacktrace:\n#0 0xaaaac2797b24 <unknown>\n#1 0xaaaac250c1c8 <unknown>\n#2 0xaaaac253a69c <unknown>\n#3 0xaaaac256a19c <unknown>\n#4 0xaaaac2530768 <unknown>\n#5 0xaaaac25319fc <unknown>\n#6 0xaaaac27c28a4 <unknown>\n#7 0xaaaac27d31d0 <unknown>\n#8 0xaaaac27d2f6c <unknown>\n#9 0xaaaac27c3de8 <unknown>\n#10 0xaaaac27d37e8 <unknown>\n#11 0xaaaac27b8f9c <unknown>\n#12 0xaaaac27e9b08 <unknown>\n#13 0xaaaac27e9cc0 <unknown>\n#14 0xaaaac2802844 <unknown>\n#15 0xffff87f61f3c <unknown>\n#16 0xffff87541cdc <unknown>\n",
     "output_type": "error",
     "traceback": [
      "\u001b[0;31m---------------------------------------------------------------------------\u001b[0m",
      "\u001b[0;31mNoSuchElementException\u001b[0m                    Traceback (most recent call last)",
      "\u001b[1;32m/workspaces/mikroe-scrapper/example.ipynb Cell 5'\u001b[0m in \u001b[0;36m<cell line: 2>\u001b[0;34m()\u001b[0m\n\u001b[1;32m      <a href='vscode-notebook-cell://dev-container%2B2f55736572732f627269616e6c6f7564696e2f446f63756d656e74732f6769746875622f6d696b726f652d7363726170706572/workspaces/mikroe-scrapper/example.ipynb#ch0000006vscode-remote?line=0'>1</a>\u001b[0m driver\u001b[39m.\u001b[39mget(\u001b[39m'\u001b[39m\u001b[39mhttps://www.mikroe.com/click/sensors/rf-meter\u001b[39m\u001b[39m'\u001b[39m)\n\u001b[0;32m----> <a href='vscode-notebook-cell://dev-container%2B2f55736572732f627269616e6c6f7564696e2f446f63756d656e74732f6769746875622f6d696b726f652d7363726170706572/workspaces/mikroe-scrapper/example.ipynb#ch0000006vscode-remote?line=1'>2</a>\u001b[0m blog_titles \u001b[39m=\u001b[39m driver\u001b[39m.\u001b[39;49mfind_element(by\u001b[39m=\u001b[39;49mBy\u001b[39m.\u001b[39;49mCSS_SELECTOR, value\u001b[39m=\u001b[39;49m\u001b[39m'\u001b[39;49m\u001b[39m#center_column > div.af_pl_wrapper > ul > li:nth-child(1) > div > div.left-block.col-xs-4.col-sm-5.col-md-3 > div > a > img\u001b[39;49m\u001b[39m'\u001b[39;49m)\n",
      "File \u001b[0;32m/usr/local/lib/python3.10/site-packages/selenium/webdriver/remote/webdriver.py:1248\u001b[0m, in \u001b[0;36mWebDriver.find_element\u001b[0;34m(self, by, value)\u001b[0m\n\u001b[1;32m   <a href='file:///usr/local/lib/python3.10/site-packages/selenium/webdriver/remote/webdriver.py?line=1244'>1245</a>\u001b[0m     by \u001b[39m=\u001b[39m By\u001b[39m.\u001b[39mCSS_SELECTOR\n\u001b[1;32m   <a href='file:///usr/local/lib/python3.10/site-packages/selenium/webdriver/remote/webdriver.py?line=1245'>1246</a>\u001b[0m     value \u001b[39m=\u001b[39m \u001b[39m'\u001b[39m\u001b[39m[name=\u001b[39m\u001b[39m\"\u001b[39m\u001b[39m%s\u001b[39;00m\u001b[39m\"\u001b[39m\u001b[39m]\u001b[39m\u001b[39m'\u001b[39m \u001b[39m%\u001b[39m value\n\u001b[0;32m-> <a href='file:///usr/local/lib/python3.10/site-packages/selenium/webdriver/remote/webdriver.py?line=1247'>1248</a>\u001b[0m \u001b[39mreturn\u001b[39;00m \u001b[39mself\u001b[39;49m\u001b[39m.\u001b[39;49mexecute(Command\u001b[39m.\u001b[39;49mFIND_ELEMENT, {\n\u001b[1;32m   <a href='file:///usr/local/lib/python3.10/site-packages/selenium/webdriver/remote/webdriver.py?line=1248'>1249</a>\u001b[0m     \u001b[39m'\u001b[39;49m\u001b[39musing\u001b[39;49m\u001b[39m'\u001b[39;49m: by,\n\u001b[1;32m   <a href='file:///usr/local/lib/python3.10/site-packages/selenium/webdriver/remote/webdriver.py?line=1249'>1250</a>\u001b[0m     \u001b[39m'\u001b[39;49m\u001b[39mvalue\u001b[39;49m\u001b[39m'\u001b[39;49m: value})[\u001b[39m'\u001b[39m\u001b[39mvalue\u001b[39m\u001b[39m'\u001b[39m]\n",
      "File \u001b[0;32m/usr/local/lib/python3.10/site-packages/selenium/webdriver/remote/webdriver.py:425\u001b[0m, in \u001b[0;36mWebDriver.execute\u001b[0;34m(self, driver_command, params)\u001b[0m\n\u001b[1;32m    <a href='file:///usr/local/lib/python3.10/site-packages/selenium/webdriver/remote/webdriver.py?line=422'>423</a>\u001b[0m response \u001b[39m=\u001b[39m \u001b[39mself\u001b[39m\u001b[39m.\u001b[39mcommand_executor\u001b[39m.\u001b[39mexecute(driver_command, params)\n\u001b[1;32m    <a href='file:///usr/local/lib/python3.10/site-packages/selenium/webdriver/remote/webdriver.py?line=423'>424</a>\u001b[0m \u001b[39mif\u001b[39;00m response:\n\u001b[0;32m--> <a href='file:///usr/local/lib/python3.10/site-packages/selenium/webdriver/remote/webdriver.py?line=424'>425</a>\u001b[0m     \u001b[39mself\u001b[39;49m\u001b[39m.\u001b[39;49merror_handler\u001b[39m.\u001b[39;49mcheck_response(response)\n\u001b[1;32m    <a href='file:///usr/local/lib/python3.10/site-packages/selenium/webdriver/remote/webdriver.py?line=425'>426</a>\u001b[0m     response[\u001b[39m'\u001b[39m\u001b[39mvalue\u001b[39m\u001b[39m'\u001b[39m] \u001b[39m=\u001b[39m \u001b[39mself\u001b[39m\u001b[39m.\u001b[39m_unwrap_value(\n\u001b[1;32m    <a href='file:///usr/local/lib/python3.10/site-packages/selenium/webdriver/remote/webdriver.py?line=426'>427</a>\u001b[0m         response\u001b[39m.\u001b[39mget(\u001b[39m'\u001b[39m\u001b[39mvalue\u001b[39m\u001b[39m'\u001b[39m, \u001b[39mNone\u001b[39;00m))\n\u001b[1;32m    <a href='file:///usr/local/lib/python3.10/site-packages/selenium/webdriver/remote/webdriver.py?line=427'>428</a>\u001b[0m     \u001b[39mreturn\u001b[39;00m response\n",
      "File \u001b[0;32m/usr/local/lib/python3.10/site-packages/selenium/webdriver/remote/errorhandler.py:247\u001b[0m, in \u001b[0;36mErrorHandler.check_response\u001b[0;34m(self, response)\u001b[0m\n\u001b[1;32m    <a href='file:///usr/local/lib/python3.10/site-packages/selenium/webdriver/remote/errorhandler.py?line=244'>245</a>\u001b[0m         alert_text \u001b[39m=\u001b[39m value[\u001b[39m'\u001b[39m\u001b[39malert\u001b[39m\u001b[39m'\u001b[39m]\u001b[39m.\u001b[39mget(\u001b[39m'\u001b[39m\u001b[39mtext\u001b[39m\u001b[39m'\u001b[39m)\n\u001b[1;32m    <a href='file:///usr/local/lib/python3.10/site-packages/selenium/webdriver/remote/errorhandler.py?line=245'>246</a>\u001b[0m     \u001b[39mraise\u001b[39;00m exception_class(message, screen, stacktrace, alert_text)  \u001b[39m# type: ignore[call-arg]  # mypy is not smart enough here\u001b[39;00m\n\u001b[0;32m--> <a href='file:///usr/local/lib/python3.10/site-packages/selenium/webdriver/remote/errorhandler.py?line=246'>247</a>\u001b[0m \u001b[39mraise\u001b[39;00m exception_class(message, screen, stacktrace)\n",
      "\u001b[0;31mNoSuchElementException\u001b[0m: Message: no such element: Unable to locate element: {\"method\":\"css selector\",\"selector\":\"#center_column > div.af_pl_wrapper > ul > li:nth-child(1) > div > div.left-block.col-xs-4.col-sm-5.col-md-3 > div > a > img\"}\n  (Session info: chrome=99.0.4844.84)\nStacktrace:\n#0 0xaaaac2797b24 <unknown>\n#1 0xaaaac250c1c8 <unknown>\n#2 0xaaaac253a69c <unknown>\n#3 0xaaaac256a19c <unknown>\n#4 0xaaaac2530768 <unknown>\n#5 0xaaaac25319fc <unknown>\n#6 0xaaaac27c28a4 <unknown>\n#7 0xaaaac27d31d0 <unknown>\n#8 0xaaaac27d2f6c <unknown>\n#9 0xaaaac27c3de8 <unknown>\n#10 0xaaaac27d37e8 <unknown>\n#11 0xaaaac27b8f9c <unknown>\n#12 0xaaaac27e9b08 <unknown>\n#13 0xaaaac27e9cc0 <unknown>\n#14 0xaaaac2802844 <unknown>\n#15 0xffff87f61f3c <unknown>\n#16 0xffff87541cdc <unknown>\n"
     ]
    }
   ],
   "source": [
    "driver.get('https://www.mikroe.com/click/sensors/rf-meter')\n",
    "blog_titles = driver.find_element(by=By.CSS_SELECTOR, value='#center_column > div.af_pl_wrapper > ul > li:nth-child(1) > div > div.left-block.col-xs-4.col-sm-5.col-md-3 > div > a > img')"
   ]
  },
  {
   "cell_type": "code",
   "execution_count": 18,
   "metadata": {},
   "outputs": [],
   "source": [
    "driver.quit()"
   ]
  },
  {
   "cell_type": "code",
   "execution_count": 16,
   "metadata": {},
   "outputs": [
    {
     "ename": "AttributeError",
     "evalue": "'WebElement' object has no attribute 'title'",
     "output_type": "error",
     "traceback": [
      "\u001b[0;31m---------------------------------------------------------------------------\u001b[0m",
      "\u001b[0;31mAttributeError\u001b[0m                            Traceback (most recent call last)",
      "\u001b[1;32m/workspaces/mikroe-scrapper/example.ipynb Cell 7'\u001b[0m in \u001b[0;36m<cell line: 1>\u001b[0;34m()\u001b[0m\n\u001b[0;32m----> <a href='vscode-notebook-cell://dev-container%2B2f55736572732f627269616e6c6f7564696e2f446f63756d656e74732f6769746875622f6d696b726f652d7363726170706572/workspaces/mikroe-scrapper/example.ipynb#ch0000010vscode-remote?line=0'>1</a>\u001b[0m \u001b[39mprint\u001b[39m(blog_titles\u001b[39m.\u001b[39;49mtitle)\n",
      "\u001b[0;31mAttributeError\u001b[0m: 'WebElement' object has no attribute 'title'"
     ]
    }
   ],
   "source": [
    "print(blog_titles.title)"
   ]
  },
  {
   "cell_type": "code",
   "execution_count": null,
   "metadata": {},
   "outputs": [],
   "source": [
    "/html/body/div[2]/div[8]/div[2]/div/div[2]/div[2]/div[4]/ul/li[1]/div/div[1]/div/a/img\n",
    "\n",
    "<img class=\"replace-2x img-responsive\" src=\"//cdn1-shop.mikroe.com/img/product/rf-meter-click-click/rf-meter-click-click-home_default-1.jpg?v=100\" alt=\"RF Meter click front\" title=\"RF Meter click front\" data-src=\"//cdn1-shop.mikroe.com/img/product/rf-meter-click-click/rf-meter-click-click-home_default-1.jpg?v=100\" style=\"display: block; opacity: 1;\">\n",
    "\n",
    "\n",
    "#center_column > div.af_pl_wrapper > ul > li:nth-child(1)\n",
    "\n",
    "//*[@id=\"center_column\"]/div[4]/ul/li[1]/div/div[2]\n",
    "\n",
    "//*[@id=\"center_column\"]/div[4]/ul/li[2]/div/div[2]"
   ]
  }
 ],
 "metadata": {
  "interpreter": {
   "hash": "949777d72b0d2535278d3dc13498b2535136f6dfe0678499012e853ee9abcab1"
  },
  "kernelspec": {
   "display_name": "Python 3.10.2 64-bit",
   "language": "python",
   "name": "python3"
  },
  "language_info": {
   "codemirror_mode": {
    "name": "ipython",
    "version": 3
   },
   "file_extension": ".py",
   "mimetype": "text/x-python",
   "name": "python",
   "nbconvert_exporter": "python",
   "pygments_lexer": "ipython3",
   "version": "3.10.2"
  },
  "orig_nbformat": 4
 },
 "nbformat": 4,
 "nbformat_minor": 2
}
